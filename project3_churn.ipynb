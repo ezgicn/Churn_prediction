{
 "cells": [
  {
   "cell_type": "code",
   "execution_count": 1,
   "metadata": {},
   "outputs": [
    {
     "name": "stdout",
     "output_type": "stream",
     "text": [
      "Requirement already satisfied: xgboost in c:\\users\\en\\anaconda3\\lib\\site-packages (1.2.0)\n",
      "Requirement already satisfied: scipy in c:\\users\\en\\anaconda3\\lib\\site-packages (from xgboost) (1.5.0)\n",
      "Requirement already satisfied: numpy in c:\\users\\en\\anaconda3\\lib\\site-packages (from xgboost) (1.18.5)\n"
     ]
    }
   ],
   "source": [
    "import pandas as pd\n",
    "import numpy as np\n",
    "import matplotlib.pyplot as plt\n",
    "import seaborn as sns\n",
    "import statistics\n",
    "from sklearn import metrics, datasets, preprocessing, model_selection, svm, naive_bayes, neighbors, ensemble\n",
    "from sklearn.model_selection import train_test_split, cross_val_score\n",
    "from sklearn.linear_model import LogisticRegression\n",
    "from sklearn.metrics import confusion_matrix, precision_score, recall_score, precision_recall_curve,f1_score, roc_auc_score, roc_curve, plot_roc_curve\n",
    "from sklearn.ensemble import BaggingClassifier, RandomForestClassifier, ExtraTreesClassifier, AdaBoostClassifier, GradientBoostingClassifier, VotingClassifier\n",
    "from sklearn.tree import DecisionTreeClassifier\n",
    "!pip install xgboost\n",
    "from xgboost import XGBClassifier\n",
    "import xgboost as xgb"
   ]
  },
  {
   "cell_type": "code",
   "execution_count": 2,
   "metadata": {},
   "outputs": [],
   "source": [
    "##The data set of an international bank was obtained from Kaggle  \n",
    "##https://www.kaggle.com/nasirislamsujan/bank-customer-churn-prediction\n",
    "file='C:/Users/EN/DataScienceAcademy/Project1/Project_EDA/Churn.csv'\n",
    "df=pd.read_csv(file)"
   ]
  },
  {
   "cell_type": "code",
   "execution_count": 3,
   "metadata": {},
   "outputs": [],
   "source": [
    "df.drop([\"RowNumber\",\"CustomerId\",\"Surname\"], axis=1, inplace=True)"
   ]
  },
  {
   "cell_type": "code",
   "execution_count": 4,
   "metadata": {},
   "outputs": [],
   "source": [
    "df.loc[(df['Exited'] == 0), 'Churn'] = 'Non-Churn'\n",
    "df.loc[(df['Exited'] == 1), 'Churn'] = 'Churn'"
   ]
  },
  {
   "cell_type": "code",
   "execution_count": 5,
   "metadata": {},
   "outputs": [],
   "source": [
    "df.drop([\"Exited\"], axis=1, inplace=True)"
   ]
  },
  {
   "cell_type": "code",
   "execution_count": 6,
   "metadata": {},
   "outputs": [
    {
     "data": {
      "text/html": [
       "<div>\n",
       "<style scoped>\n",
       "    .dataframe tbody tr th:only-of-type {\n",
       "        vertical-align: middle;\n",
       "    }\n",
       "\n",
       "    .dataframe tbody tr th {\n",
       "        vertical-align: top;\n",
       "    }\n",
       "\n",
       "    .dataframe thead th {\n",
       "        text-align: right;\n",
       "    }\n",
       "</style>\n",
       "<table border=\"1\" class=\"dataframe\">\n",
       "  <thead>\n",
       "    <tr style=\"text-align: right;\">\n",
       "      <th></th>\n",
       "      <th>CreditScore</th>\n",
       "      <th>Geography</th>\n",
       "      <th>Gender</th>\n",
       "      <th>Age</th>\n",
       "      <th>Tenure</th>\n",
       "      <th>Balance</th>\n",
       "      <th>NumOfProducts</th>\n",
       "      <th>HasCrCard</th>\n",
       "      <th>IsActiveMember</th>\n",
       "      <th>EstimatedSalary</th>\n",
       "      <th>Churn</th>\n",
       "    </tr>\n",
       "  </thead>\n",
       "  <tbody>\n",
       "    <tr>\n",
       "      <th>0</th>\n",
       "      <td>619</td>\n",
       "      <td>France</td>\n",
       "      <td>Female</td>\n",
       "      <td>42</td>\n",
       "      <td>2</td>\n",
       "      <td>0.00</td>\n",
       "      <td>1</td>\n",
       "      <td>1</td>\n",
       "      <td>1</td>\n",
       "      <td>101348.88</td>\n",
       "      <td>Churn</td>\n",
       "    </tr>\n",
       "    <tr>\n",
       "      <th>1</th>\n",
       "      <td>608</td>\n",
       "      <td>Spain</td>\n",
       "      <td>Female</td>\n",
       "      <td>41</td>\n",
       "      <td>1</td>\n",
       "      <td>83807.86</td>\n",
       "      <td>1</td>\n",
       "      <td>0</td>\n",
       "      <td>1</td>\n",
       "      <td>112542.58</td>\n",
       "      <td>Non-Churn</td>\n",
       "    </tr>\n",
       "    <tr>\n",
       "      <th>2</th>\n",
       "      <td>502</td>\n",
       "      <td>France</td>\n",
       "      <td>Female</td>\n",
       "      <td>42</td>\n",
       "      <td>8</td>\n",
       "      <td>159660.80</td>\n",
       "      <td>3</td>\n",
       "      <td>1</td>\n",
       "      <td>0</td>\n",
       "      <td>113931.57</td>\n",
       "      <td>Churn</td>\n",
       "    </tr>\n",
       "    <tr>\n",
       "      <th>3</th>\n",
       "      <td>699</td>\n",
       "      <td>France</td>\n",
       "      <td>Female</td>\n",
       "      <td>39</td>\n",
       "      <td>1</td>\n",
       "      <td>0.00</td>\n",
       "      <td>2</td>\n",
       "      <td>0</td>\n",
       "      <td>0</td>\n",
       "      <td>93826.63</td>\n",
       "      <td>Non-Churn</td>\n",
       "    </tr>\n",
       "    <tr>\n",
       "      <th>4</th>\n",
       "      <td>850</td>\n",
       "      <td>Spain</td>\n",
       "      <td>Female</td>\n",
       "      <td>43</td>\n",
       "      <td>2</td>\n",
       "      <td>125510.82</td>\n",
       "      <td>1</td>\n",
       "      <td>1</td>\n",
       "      <td>1</td>\n",
       "      <td>79084.10</td>\n",
       "      <td>Non-Churn</td>\n",
       "    </tr>\n",
       "  </tbody>\n",
       "</table>\n",
       "</div>"
      ],
      "text/plain": [
       "   CreditScore Geography  Gender  Age  Tenure    Balance  NumOfProducts  \\\n",
       "0          619    France  Female   42       2       0.00              1   \n",
       "1          608     Spain  Female   41       1   83807.86              1   \n",
       "2          502    France  Female   42       8  159660.80              3   \n",
       "3          699    France  Female   39       1       0.00              2   \n",
       "4          850     Spain  Female   43       2  125510.82              1   \n",
       "\n",
       "   HasCrCard  IsActiveMember  EstimatedSalary      Churn  \n",
       "0          1               1        101348.88      Churn  \n",
       "1          0               1        112542.58  Non-Churn  \n",
       "2          1               0        113931.57      Churn  \n",
       "3          0               0         93826.63  Non-Churn  \n",
       "4          1               1         79084.10  Non-Churn  "
      ]
     },
     "execution_count": 6,
     "metadata": {},
     "output_type": "execute_result"
    }
   ],
   "source": [
    "df.head()"
   ]
  },
  {
   "cell_type": "code",
   "execution_count": 7,
   "metadata": {},
   "outputs": [
    {
     "data": {
      "text/plain": [
       "<matplotlib.axes._subplots.AxesSubplot at 0x158a1682cd0>"
      ]
     },
     "execution_count": 7,
     "metadata": {},
     "output_type": "execute_result"
    },
    {
     "data": {
      "image/png": "[encoded data removed]",
      "text/plain": [
       "<Figure size 432x288 with 1 Axes>"
      ]
     },
     "metadata": {
      "needs_background": "light"
     },
     "output_type": "display_data"
    }
   ],
   "source": [
    "sns.countplot(x='Churn', data=df)"
   ]
  },
  {
   "cell_type": "code",
   "execution_count": 52,
   "metadata": {},
   "outputs": [
    {
     "data": {
      "text/plain": [
       "<matplotlib.axes._subplots.AxesSubplot at 0x1c094ba8dc0>"
      ]
     },
     "execution_count": 52,
     "metadata": {},
     "output_type": "execute_result"
    },
    {
     "data": {
      "image/png": "[encoded data removed]",
      "text/plain": [
       "<Figure size 432x288 with 1 Axes>"
      ]
     },
     "metadata": {
      "needs_background": "light"
     },
     "output_type": "display_data"
    }
   ],
   "source": [
    "sns.countplot(x='Tenure', data=df)"
   ]
  },
  {
   "cell_type": "code",
   "execution_count": 53,
   "metadata": {},
   "outputs": [
    {
     "data": {
      "text/plain": [
       "<matplotlib.axes._subplots.AxesSubplot at 0x1c09ed528b0>"
      ]
     },
     "execution_count": 53,
     "metadata": {},
     "output_type": "execute_result"
    },
    {
     "data": {
      "image/png": "[encoded data removed]",
      "text/plain": [
       "<Figure size 432x288 with 1 Axes>"
      ]
     },
     "metadata": {
      "needs_background": "light"
     },
     "output_type": "display_data"
    }
   ],
   "source": [
    "sns.countplot(x='NumOfProducts', data=df)"
   ]
  },
  {
   "cell_type": "code",
   "execution_count": 54,
   "metadata": {},
   "outputs": [
    {
     "data": {
      "text/plain": [
       "<matplotlib.axes._subplots.AxesSubplot at 0x1c094c0d520>"
      ]
     },
     "execution_count": 54,
     "metadata": {},
     "output_type": "execute_result"
    },
    {
     "data": {
      "image/png": "[encoded data removed]",
      "text/plain": [
       "<Figure size 432x288 with 1 Axes>"
      ]
     },
     "metadata": {
      "needs_background": "light"
     },
     "output_type": "display_data"
    }
   ],
   "source": [
    "sns.countplot(x='HasCrCard', data=df)"
   ]
  },
  {
   "cell_type": "code",
   "execution_count": 55,
   "metadata": {},
   "outputs": [
    {
     "data": {
      "text/plain": [
       "<matplotlib.axes._subplots.AxesSubplot at 0x1c09bdc2280>"
      ]
     },
     "execution_count": 55,
     "metadata": {},
     "output_type": "execute_result"
    },
    {
     "data": {
      "image/png": "[encoded data removed]",
      "text/plain": [
       "<Figure size 432x288 with 1 Axes>"
      ]
     },
     "metadata": {
      "needs_background": "light"
     },
     "output_type": "display_data"
    }
   ],
   "source": [
    "sns.countplot(x='IsActiveMember', data=df)"
   ]
  },
  {
   "cell_type": "code",
   "execution_count": 56,
   "metadata": {},
   "outputs": [
    {
     "data": {
      "text/plain": [
       "<matplotlib.axes._subplots.AxesSubplot at 0x1c094c70d60>"
      ]
     },
     "execution_count": 56,
     "metadata": {},
     "output_type": "execute_result"
    },
    {
     "data": {
      "image/png": "[encoded data removed]",
      "text/plain": [
       "<Figure size 432x288 with 1 Axes>"
      ]
     },
     "metadata": {
      "needs_background": "light"
     },
     "output_type": "display_data"
    }
   ],
   "source": [
    "sns.countplot(x='Geography', data=df)"
   ]
  },
  {
   "cell_type": "code",
   "execution_count": 8,
   "metadata": {},
   "outputs": [
    {
     "data": {
      "text/html": [
       "<div>\n",
       "<style scoped>\n",
       "    .dataframe tbody tr th:only-of-type {\n",
       "        vertical-align: middle;\n",
       "    }\n",
       "\n",
       "    .dataframe tbody tr th {\n",
       "        vertical-align: top;\n",
       "    }\n",
       "\n",
       "    .dataframe thead th {\n",
       "        text-align: right;\n",
       "    }\n",
       "</style>\n",
       "<table border=\"1\" class=\"dataframe\">\n",
       "  <thead>\n",
       "    <tr style=\"text-align: right;\">\n",
       "      <th></th>\n",
       "      <th>CreditScore</th>\n",
       "      <th>Geography</th>\n",
       "      <th>Gender</th>\n",
       "      <th>Age</th>\n",
       "      <th>Tenure</th>\n",
       "      <th>Balance</th>\n",
       "      <th>NumOfProducts</th>\n",
       "      <th>HasCrCard</th>\n",
       "      <th>IsActiveMember</th>\n",
       "      <th>EstimatedSalary</th>\n",
       "      <th>Churn</th>\n",
       "    </tr>\n",
       "  </thead>\n",
       "  <tbody>\n",
       "    <tr>\n",
       "      <th>0</th>\n",
       "      <td>619</td>\n",
       "      <td>0</td>\n",
       "      <td>0</td>\n",
       "      <td>42</td>\n",
       "      <td>2</td>\n",
       "      <td>0.00</td>\n",
       "      <td>0</td>\n",
       "      <td>1</td>\n",
       "      <td>1</td>\n",
       "      <td>101348.88</td>\n",
       "      <td>0</td>\n",
       "    </tr>\n",
       "    <tr>\n",
       "      <th>1</th>\n",
       "      <td>608</td>\n",
       "      <td>2</td>\n",
       "      <td>0</td>\n",
       "      <td>41</td>\n",
       "      <td>1</td>\n",
       "      <td>83807.86</td>\n",
       "      <td>0</td>\n",
       "      <td>0</td>\n",
       "      <td>1</td>\n",
       "      <td>112542.58</td>\n",
       "      <td>1</td>\n",
       "    </tr>\n",
       "    <tr>\n",
       "      <th>2</th>\n",
       "      <td>502</td>\n",
       "      <td>0</td>\n",
       "      <td>0</td>\n",
       "      <td>42</td>\n",
       "      <td>8</td>\n",
       "      <td>159660.80</td>\n",
       "      <td>2</td>\n",
       "      <td>1</td>\n",
       "      <td>0</td>\n",
       "      <td>113931.57</td>\n",
       "      <td>0</td>\n",
       "    </tr>\n",
       "    <tr>\n",
       "      <th>3</th>\n",
       "      <td>699</td>\n",
       "      <td>0</td>\n",
       "      <td>0</td>\n",
       "      <td>39</td>\n",
       "      <td>1</td>\n",
       "      <td>0.00</td>\n",
       "      <td>1</td>\n",
       "      <td>0</td>\n",
       "      <td>0</td>\n",
       "      <td>93826.63</td>\n",
       "      <td>1</td>\n",
       "    </tr>\n",
       "    <tr>\n",
       "      <th>4</th>\n",
       "      <td>850</td>\n",
       "      <td>2</td>\n",
       "      <td>0</td>\n",
       "      <td>43</td>\n",
       "      <td>2</td>\n",
       "      <td>125510.82</td>\n",
       "      <td>0</td>\n",
       "      <td>1</td>\n",
       "      <td>1</td>\n",
       "      <td>79084.10</td>\n",
       "      <td>1</td>\n",
       "    </tr>\n",
       "  </tbody>\n",
       "</table>\n",
       "</div>"
      ],
      "text/plain": [
       "   CreditScore  Geography  Gender  Age  Tenure    Balance  NumOfProducts  \\\n",
       "0          619          0       0   42       2       0.00              0   \n",
       "1          608          2       0   41       1   83807.86              0   \n",
       "2          502          0       0   42       8  159660.80              2   \n",
       "3          699          0       0   39       1       0.00              1   \n",
       "4          850          2       0   43       2  125510.82              0   \n",
       "\n",
       "   HasCrCard  IsActiveMember  EstimatedSalary  Churn  \n",
       "0          1               1        101348.88      0  \n",
       "1          0               1        112542.58      1  \n",
       "2          1               0        113931.57      0  \n",
       "3          0               0         93826.63      1  \n",
       "4          1               1         79084.10      1  "
      ]
     },
     "execution_count": 8,
     "metadata": {},
     "output_type": "execute_result"
    }
   ],
   "source": [
    "label_encoder = preprocessing.LabelEncoder() #label encoding on class_label before logistic regression\n",
    "df['Churn']= label_encoder.fit_transform(df['Churn']) \n",
    "df['Churn'].unique()\n",
    "df['Gender']= label_encoder.fit_transform(df['Gender']) \n",
    "df['Gender'].unique()\n",
    "df['Geography']= label_encoder.fit_transform(df['Geography']) \n",
    "df['Geography'].unique()\n",
    "df['NumOfProducts']= label_encoder.fit_transform(df['NumOfProducts']) \n",
    "df['NumOfProducts'].unique()\n",
    "df['IsActiveMember']= label_encoder.fit_transform(df['IsActiveMember']) \n",
    "df['IsActiveMember'].unique()\n",
    "df.head()"
   ]
  },
  {
   "cell_type": "code",
   "execution_count": 9,
   "metadata": {},
   "outputs": [],
   "source": [
    "X = df.loc[:,['CreditScore', 'Geography', 'Gender', 'Tenure', 'Balance', 'NumOfProducts', 'HasCrCard','IsActiveMember', 'EstimatedSalary', 'Age']]\n",
    "y = df['Churn']"
   ]
  },
  {
   "cell_type": "code",
   "execution_count": 10,
   "metadata": {},
   "outputs": [],
   "source": [
    "X_train, X_test, y_train, y_test = train_test_split(X, y, train_size=0.7, random_state=42)"
   ]
  },
  {
   "cell_type": "code",
   "execution_count": 12,
   "metadata": {},
   "outputs": [
    {
     "name": "stdout",
     "output_type": "stream",
     "text": [
      "Train accuracy: 0.784\n",
      "Test accuracy: 0.8006666666666666\n",
      "Precision:0.8156,   Recall:0.9723, F1:0.8871\n",
      "CV Accuracy 0.7902\n"
     ]
    }
   ],
   "source": [
    "#Logistic regression classifier\n",
    "LR = LogisticRegression(solver= 'liblinear', fit_intercept = True)\n",
    "results_LR = LR.fit(X_train, y_train)\n",
    "y_pred = LR.predict(X_test)\n",
    "print('Train accuracy:', LR.score(X_train, y_train))\n",
    "print('Test accuracy:', LR.score(X_test, y_test))\n",
    "print('Precision:{:6.4f},   Recall:{:6.4f}, F1:{:6.4f}' .format(precision_score(y_test, y_pred), \n",
    "                                                                recall_score(y_test, y_pred), f1_score(y_test, y_pred)))\n",
    "CV_scores_LR = cross_val_score(LR,  X, y, cv=10)\n",
    "print('CV Accuracy', statistics.mean(CV_scores_LR))"
   ]
  },
  {
   "cell_type": "code",
   "execution_count": 15,
   "metadata": {},
   "outputs": [
    {
     "name": "stdout",
     "output_type": "stream",
     "text": [
      "Train accuracy: 0.7924285714285715\n",
      "Test accuracy: 0.8053333333333333\n",
      "Precision:0.8053, Recall:1.0000, F1:0.8922\n",
      "CV Accuracy 0.7963\n"
     ]
    }
   ],
   "source": [
    "SVC = svm.SVC(kernel=\"rbf\")\n",
    "results_SVC = SVM.fit(X_train, y_train)\n",
    "y_pred_SVC = SVM.predict(X_test)\n",
    "print('Train accuracy:', SVM.score(X_train, y_train))\n",
    "print('Test accuracy:', SVM.score(X_test, y_test))\n",
    "print('Precision:{:6.4f}, Recall:{:6.4f}, F1:{:6.4f}' .format(precision_score(y_test, y_pred_SVM), \n",
    "                                                                recall_score(y_test, y_pred_SVM), f1_score(y_test, y_pred_SVM)))\n",
    "CV_scores_SVC = cross_val_score(SVC,  X, y, cv=10)\n",
    "print('CV Accuracy', statistics.mean(CV_scores_SVC))"
   ]
  },
  {
   "cell_type": "code",
   "execution_count": 16,
   "metadata": {},
   "outputs": [
    {
     "name": "stdout",
     "output_type": "stream",
     "text": [
      "Train accuracy: 0.87\n",
      "Test accuracy: 0.87\n",
      "Precision:0.8811,   Recall:0.9694, F1:0.9231\n",
      "CV Accuracy 0.8638\n"
     ]
    }
   ],
   "source": [
    "#Gradient Boosting Classifier\n",
    "GB = GradientBoostingClassifier()\n",
    "results_GB = GB.fit(X_train, y_train)\n",
    "y_pred_GB = GB.predict(X_test)\n",
    "print('Train accuracy:', GB.score(X_train, y_train))\n",
    "print('Test accuracy:', GB.score(X_test, y_test))\n",
    "print('Precision:{:6.4f},   Recall:{:6.4f}, F1:{:6.4f}' .format(precision_score(y_test, y_pred_GB), \n",
    "                                                                recall_score(y_test, y_pred_GB), f1_score(y_test, y_pred_GB)))\n",
    "CV_scores_GB = cross_val_score(GB,  X, y, cv=10)\n",
    "print('CV Accuracy', statistics.mean(CV_scores_GB))"
   ]
  },
  {
   "cell_type": "code",
   "execution_count": 17,
   "metadata": {},
   "outputs": [
    {
     "data": {
      "image/png": "[encoded data removed]",
      "text/plain": [
       "<Figure size 432x288 with 2 Axes>"
      ]
     },
     "metadata": {
      "needs_background": "light"
     },
     "output_type": "display_data"
    }
   ],
   "source": [
    "#Confusion matrix\n",
    "cm = confusion_matrix(y_test, y_pred_GB)\n",
    "ax= plt.subplot()\n",
    "sns.heatmap(cm, annot=True, ax = ax, linewidths=0.5, cmap = 'Blues_r', fmt='d')\n",
    "ax.set_xlabel('Predicted labels')\n",
    "ax.set_ylabel('True labels')\n",
    "ax.set_title('Gradient Boosting Classifier')\n",
    "ax.xaxis.set_ticklabels(['Non-Churn', 'Churn'])\n",
    "ax.yaxis.set_ticklabels(['Non-Churn', 'Churn']);"
   ]
  },
  {
   "cell_type": "code",
   "execution_count": 18,
   "metadata": {},
   "outputs": [
    {
     "name": "stderr",
     "output_type": "stream",
     "text": [
      "C:\\Users\\EN\\anaconda3\\lib\\site-packages\\sklearn\\model_selection\\_split.py:293: FutureWarning: Setting a random_state has no effect since shuffle is False. This will raise an error in 0.24. You should leave random_state to its default (None), or set shuffle=True.\n",
      "  warnings.warn(\n"
     ]
    },
    {
     "name": "stdout",
     "output_type": "stream",
     "text": [
      "Train accuracy: 1.0\n",
      "Test accuracy: 0.859\n",
      "Precision:0.8802,   Recall:0.9549, F1:0.9160\n",
      "CV Accuracy 0.8543999999999999\n"
     ]
    }
   ],
   "source": [
    "#Bagging Desicion Tree Classification\n",
    "kfold = model_selection.KFold(n_splits=10, random_state=7)\n",
    "cart = DecisionTreeClassifier()\n",
    "BG = BaggingClassifier(base_estimator=cart, n_estimators=100, random_state=7)\n",
    "results_BG = model_selection.cross_val_score(BG, X_train, y_train, cv=kfold)\n",
    "BG.fit(X_train, y_train)\n",
    "y_pred_BG = BG.predict(X_test)\n",
    "print('Train accuracy:', BG.score(X_train, y_train))\n",
    "print('Test accuracy:', BG.score(X_test, y_test))\n",
    "print('Precision:{:6.4f},   Recall:{:6.4f}, F1:{:6.4f}' .format(precision_score(y_test, y_pred_BG), \n",
    "                                                                recall_score(y_test, y_pred_BG), f1_score(y_test, y_pred_BG)))\n",
    "CV_scores_BG = cross_val_score(BG,  X, y, cv=10)\n",
    "print('CV Accuracy', statistics.mean(CV_scores_BG))"
   ]
  },
  {
   "cell_type": "code",
   "execution_count": 19,
   "metadata": {},
   "outputs": [
    {
     "name": "stderr",
     "output_type": "stream",
     "text": [
      "C:\\Users\\EN\\anaconda3\\lib\\site-packages\\sklearn\\model_selection\\_split.py:293: FutureWarning: Setting a random_state has no effect since shuffle is False. This will raise an error in 0.24. You should leave random_state to its default (None), or set shuffle=True.\n",
      "  warnings.warn(\n"
     ]
    },
    {
     "name": "stdout",
     "output_type": "stream",
     "text": [
      "Train accuracy: 0.9998571428571429\n",
      "Test accuracy: 0.8653333333333333\n",
      "Precision:0.8811,   Recall:0.9627, F1:0.9201\n",
      "CV Accuracy 0.8602\n"
     ]
    }
   ],
   "source": [
    "# Random Forest Classification\n",
    "kfold = model_selection.KFold(n_splits=10, random_state=7)\n",
    "RF = RandomForestClassifier(n_estimators=100, max_features=3)\n",
    "results_RF = model_selection.cross_val_score(RF, X_train, y_train, cv=kfold)\n",
    "RF.fit(X_train, y_train)\n",
    "y_pred_RF = RF.predict(X_test)\n",
    "print('Train accuracy:', RF.score(X_train, y_train))\n",
    "print('Test accuracy:', RF.score(X_test, y_test))\n",
    "print('Precision:{:6.4f},   Recall:{:6.4f}, F1:{:6.4f}' .format(precision_score(y_test, y_pred_RF), \n",
    "                                                                recall_score(y_test, y_pred_RF), f1_score(y_test, y_pred_RF)))\n",
    "CV_scores_RF = cross_val_score(RF,  X, y, cv=10)\n",
    "print('CV Accuracy', statistics.mean(CV_scores_RF))"
   ]
  },
  {
   "cell_type": "code",
   "execution_count": 21,
   "metadata": {},
   "outputs": [
    {
     "data": {
      "image/png": "[encoded data removed]",
      "text/plain": [
       "<Figure size 432x288 with 2 Axes>"
      ]
     },
     "metadata": {
      "needs_background": "light"
     },
     "output_type": "display_data"
    }
   ],
   "source": [
    "#Confusion matrix\n",
    "cm = confusion_matrix(y_test, y_pred_RF)\n",
    "ax= plt.subplot()\n",
    "sns.heatmap(cm, annot=True, ax = ax, linewidths=0.5, cmap = 'Blues_r', fmt='d')\n",
    "ax.set_xlabel('Predicted labels')\n",
    "ax.set_ylabel('True labels')\n",
    "ax.set_title('Random Forest Classification')\n",
    "ax.xaxis.set_ticklabels(['Non-Churn', 'Churn'])\n",
    "ax.yaxis.set_ticklabels(['Non-Churn', 'Churn']);"
   ]
  },
  {
   "cell_type": "code",
   "execution_count": 20,
   "metadata": {},
   "outputs": [
    {
     "name": "stderr",
     "output_type": "stream",
     "text": [
      "C:\\Users\\EN\\anaconda3\\lib\\site-packages\\sklearn\\model_selection\\_split.py:293: FutureWarning: Setting a random_state has no effect since shuffle is False. This will raise an error in 0.24. You should leave random_state to its default (None), or set shuffle=True.\n",
      "  warnings.warn(\n"
     ]
    },
    {
     "name": "stdout",
     "output_type": "stream",
     "text": [
      "Train accuracy: 1.0\n",
      "Test accuracy: 0.864\n",
      "Precision:0.8803,   Recall:0.9619, F1:0.9193\n",
      "CV Accuracy 0.8567\n"
     ]
    }
   ],
   "source": [
    "# Extra Trees Classification\n",
    "kfold = model_selection.KFold(n_splits=10, random_state=7)\n",
    "ET = ExtraTreesClassifier(n_estimators=100, max_features=3)\n",
    "results_ET = model_selection.cross_val_score(ET, X_train, y_train, cv=kfold)\n",
    "ET.fit(X_train, y_train)\n",
    "y_pred_ET = ET.predict(X_test)\n",
    "print('Train accuracy:', ET.score(X_train, y_train))\n",
    "print('Test accuracy:', ET.score(X_test, y_test))\n",
    "print('Precision:{:6.4f},   Recall:{:6.4f}, F1:{:6.4f}' .format(precision_score(y_test, y_pred_ET), \n",
    "                                                                recall_score(y_test, y_pred_ET), f1_score(y_test, y_pred_ET)))\n",
    "CV_scores_ET = cross_val_score(ET, X, y, cv=10)\n",
    "print('CV Accuracy', statistics.mean(CV_scores_ET))"
   ]
  },
  {
   "cell_type": "code",
   "execution_count": 21,
   "metadata": {},
   "outputs": [
    {
     "data": {
      "image/png": "[encoded data removed]",
      "text/plain": [
       "<Figure size 432x288 with 2 Axes>"
      ]
     },
     "metadata": {
      "needs_background": "light"
     },
     "output_type": "display_data"
    }
   ],
   "source": [
    "#Confusion matrix\n",
    "cm = confusion_matrix(y_test, y_pred_ET)\n",
    "ax= plt.subplot()\n",
    "sns.heatmap(cm, annot=True, ax = ax, linewidths=0.5, cmap = 'Blues_r', fmt='d')\n",
    "ax.set_xlabel('Predicted labels')\n",
    "ax.set_ylabel('True labels')\n",
    "ax.set_title('Extra Tree Classification')\n",
    "ax.xaxis.set_ticklabels(['Non-Churn', 'Churn'])\n",
    "ax.yaxis.set_ticklabels(['Non-Churn', 'Churn']);"
   ]
  },
  {
   "cell_type": "code",
   "execution_count": 22,
   "metadata": {},
   "outputs": [
    {
     "name": "stderr",
     "output_type": "stream",
     "text": [
      "C:\\Users\\EN\\anaconda3\\lib\\site-packages\\sklearn\\model_selection\\_split.py:293: FutureWarning: Setting a random_state has no effect since shuffle is False. This will raise an error in 0.24. You should leave random_state to its default (None), or set shuffle=True.\n",
      "  warnings.warn(\n"
     ]
    },
    {
     "name": "stdout",
     "output_type": "stream",
     "text": [
      "Train accuracy: 0.8604285714285714\n",
      "Test accuracy: 0.863\n",
      "Precision:0.8834,   Recall:0.9561, F1:0.9183\n",
      "CV Accuracy 0.8566\n"
     ]
    }
   ],
   "source": [
    "# AdaBoost Classification\n",
    "kfold = model_selection.KFold(n_splits=10, random_state=7)\n",
    "Ada = AdaBoostClassifier(n_estimators=100, random_state=7)\n",
    "results_Ada = model_selection.cross_val_score(Ada, X_train, y_train, cv=kfold)\n",
    "Ada.fit(X_train, y_train)\n",
    "y_pred_Ada = Ada.predict(X_test)\n",
    "print('Train accuracy:', Ada.score(X_train, y_train))\n",
    "print('Test accuracy:', Ada.score(X_test, y_test))\n",
    "print('Precision:{:6.4f},   Recall:{:6.4f}, F1:{:6.4f}' .format(precision_score(y_test, y_pred_Ada), \n",
    "                                                                recall_score(y_test, y_pred_Ada), f1_score(y_test, y_pred_Ada)))\n",
    "CV_scores_Ada = cross_val_score(Ada,  X, y, cv=10)\n",
    "print('CV Accuracy', statistics.mean(CV_scores_Ada))"
   ]
  },
  {
   "cell_type": "code",
   "execution_count": 23,
   "metadata": {},
   "outputs": [
    {
     "data": {
      "image/png": "[encoded data removed]",
      "text/plain": [
       "<Figure size 432x288 with 2 Axes>"
      ]
     },
     "metadata": {
      "needs_background": "light"
     },
     "output_type": "display_data"
    }
   ],
   "source": [
    "#Confusion matrix\n",
    "cm = confusion_matrix(y_test, y_pred_Ada)\n",
    "ax= plt.subplot()\n",
    "sns.heatmap(cm, annot=True, ax = ax, linewidths=0.5, cmap = 'Blues_r', fmt='d')\n",
    "ax.set_xlabel('Predicted labels')\n",
    "ax.set_ylabel('True labels')\n",
    "ax.set_title('AdaBoost Classification')\n",
    "ax.xaxis.set_ticklabels(['Non-Churn', 'Churn'])\n",
    "ax.yaxis.set_ticklabels(['Non-Churn', 'Churn']);"
   ]
  },
  {
   "cell_type": "code",
   "execution_count": 24,
   "metadata": {},
   "outputs": [
    {
     "name": "stderr",
     "output_type": "stream",
     "text": [
      "C:\\Users\\EN\\anaconda3\\lib\\site-packages\\sklearn\\model_selection\\_split.py:293: FutureWarning: Setting a random_state has no effect since shuffle is False. This will raise an error in 0.24. You should leave random_state to its default (None), or set shuffle=True.\n",
      "  warnings.warn(\n"
     ]
    },
    {
     "name": "stdout",
     "output_type": "stream",
     "text": [
      "Train accuracy: 0.87\n",
      "Test accuracy: 0.87\n",
      "Precision:0.8811,   Recall:0.9694, F1:0.9231\n",
      "CV Accuracy 0.8638\n"
     ]
    }
   ],
   "source": [
    "#Stochastic Gradient Boosting\n",
    "kfold = model_selection.KFold(n_splits=10, random_state=7)\n",
    "SGB = GradientBoostingClassifier(n_estimators=100, random_state=7)\n",
    "results_SGB = model_selection.cross_val_score(SGB, X_train, y_train, cv=kfold)\n",
    "SGB.fit(X_train, y_train)\n",
    "y_pred_SGB = SGB.predict(X_test)\n",
    "print('Train accuracy:', SGB.score(X_train, y_train))\n",
    "print('Test accuracy:', SGB.score(X_test, y_test))\n",
    "print('Precision:{:6.4f},   Recall:{:6.4f}, F1:{:6.4f}' .format(precision_score(y_test, y_pred_SGB), \n",
    "                                                                recall_score(y_test, y_pred_SGB), f1_score(y_test, y_pred_SGB)))\n",
    "CV_scores_SGB = cross_val_score(SGB,  X, y, cv=10)\n",
    "print('CV Accuracy', statistics.mean(CV_scores_SGB))"
   ]
  },
  {
   "cell_type": "code",
   "execution_count": 25,
   "metadata": {},
   "outputs": [
    {
     "data": {
      "image/png": "[encoded data removed]",
      "text/plain": [
       "<Figure size 432x288 with 2 Axes>"
      ]
     },
     "metadata": {
      "needs_background": "light"
     },
     "output_type": "display_data"
    }
   ],
   "source": [
    "#Confusion matrix\n",
    "cm = confusion_matrix(y_test, y_pred_SGB)\n",
    "ax= plt.subplot()\n",
    "sns.heatmap(cm, annot=True, ax = ax, linewidths=0.5, cmap = 'Blues_r', fmt='d')\n",
    "ax.set_xlabel('Predicted labels')\n",
    "ax.set_ylabel('True labels')\n",
    "ax.set_title('Stochastic Gradient Boosting')\n",
    "ax.xaxis.set_ticklabels(['Non-Churn', 'Churn'])\n",
    "ax.yaxis.set_ticklabels(['Non-Churn', 'Churn']);"
   ]
  },
  {
   "cell_type": "code",
   "execution_count": 26,
   "metadata": {},
   "outputs": [
    {
     "name": "stderr",
     "output_type": "stream",
     "text": [
      "C:\\Users\\EN\\anaconda3\\lib\\site-packages\\sklearn\\model_selection\\_split.py:293: FutureWarning: Setting a random_state has no effect since shuffle is False. This will raise an error in 0.24. You should leave random_state to its default (None), or set shuffle=True.\n",
      "  warnings.warn(\n"
     ]
    },
    {
     "name": "stdout",
     "output_type": "stream",
     "text": [
      "Train accuracy: 0.9802857142857143\n",
      "Test accuracy: 0.7873333333333333\n",
      "Precision:0.8825,   Recall:0.8489, F1:0.8654\n",
      "CV Accuracy 0.7845\n"
     ]
    }
   ],
   "source": [
    "# Voting Ensemble for Classification\n",
    "estimators = []\n",
    "model1 = LogisticRegression()\n",
    "estimators.append(('logistic', model1))\n",
    "model2 = DecisionTreeClassifier()\n",
    "estimators.append(('cart', model2))\n",
    "kfold = model_selection.KFold(n_splits=10, random_state=7)\n",
    "VC = VotingClassifier(estimators)\n",
    "results_VC = model_selection.cross_val_score(VC, X_train, y_train, cv=kfold)\n",
    "VC.fit(X_train, y_train)\n",
    "y_pred_VC = VC.predict(X_test)\n",
    "print('Train accuracy:', VC.score(X_train, y_train))\n",
    "print('Test accuracy:', VC.score(X_test, y_test))\n",
    "print('Precision:{:6.4f},   Recall:{:6.4f}, F1:{:6.4f}' .format(precision_score(y_test, y_pred_VC), \n",
    "                                                                recall_score(y_test, y_pred_VC), f1_score(y_test, y_pred_VC)))\n",
    "CV_scores_VC = cross_val_score(VC,  X, y, cv=10)\n",
    "print('CV Accuracy', statistics.mean(CV_scores_VC))"
   ]
  },
  {
   "cell_type": "code",
   "execution_count": 27,
   "metadata": {},
   "outputs": [
    {
     "data": {
      "image/png": "[encoded data removed]",
      "text/plain": [
       "<Figure size 432x288 with 2 Axes>"
      ]
     },
     "metadata": {
      "needs_background": "light"
     },
     "output_type": "display_data"
    }
   ],
   "source": [
    "cm = confusion_matrix(y_test, y_pred_VC)\n",
    "ax= plt.subplot()\n",
    "sns.heatmap(cm, annot=True, ax = ax, linewidths=0.5, cmap = 'Blues_r', fmt='d')\n",
    "ax.set_xlabel('Predicted labels')\n",
    "ax.set_ylabel('True labels')\n",
    "ax.set_title('Voting Ensemble')\n",
    "ax.xaxis.set_ticklabels(['Non-Churn', 'Churn'])\n",
    "ax.yaxis.set_ticklabels(['Non-Churn', 'Churn']);"
   ]
  },
  {
   "cell_type": "code",
   "execution_count": 28,
   "metadata": {},
   "outputs": [
    {
     "name": "stdout",
     "output_type": "stream",
     "text": [
      "Train accuracy: 0.8608571428571429\n",
      "Test accuracy: 0.8636666666666667\n",
      "Precision:0.8696,   Recall:0.9772, F1:0.9203\n",
      "CV Accuracy 0.8553999999999999\n"
     ]
    }
   ],
   "source": [
    "XGB=xgb.XGBClassifier(random_state=7,learning_rate=0.01)\n",
    "XGB.fit(X_train, y_train)\n",
    "XGB.fit(X_train, y_train)\n",
    "y_pred_XGB = XGB.predict(X_test)\n",
    "print('Train accuracy:', XGB.score(X_train, y_train))\n",
    "print('Test accuracy:', XGB.score(X_test, y_test))\n",
    "print('Precision:{:6.4f},   Recall:{:6.4f}, F1:{:6.4f}' .format(precision_score(y_test, y_pred_XGB), \n",
    "                                                                recall_score(y_test, y_pred_XGB), f1_score(y_test, y_pred_XGB)))\n",
    "CV_scores_XGB = cross_val_score(XGB,  X, y, cv=10)\n",
    "print('CV Accuracy', statistics.mean(CV_scores_XGB))"
   ]
  },
  {
   "cell_type": "code",
   "execution_count": 29,
   "metadata": {},
   "outputs": [
    {
     "data": {
      "image/png": "[encoded data removed]",
      "text/plain": [
       "<Figure size 432x288 with 2 Axes>"
      ]
     },
     "metadata": {
      "needs_background": "light"
     },
     "output_type": "display_data"
    }
   ],
   "source": [
    "#Confusion matrix\n",
    "cm = confusion_matrix(y_test, y_pred_XGB)\n",
    "ax= plt.subplot()\n",
    "sns.heatmap(cm, annot=True, ax = ax, linewidths=0.5, cmap = 'Blues_r', fmt='d')\n",
    "ax.set_xlabel('Predicted labels')\n",
    "ax.set_ylabel('True labels')\n",
    "ax.set_title('XGBoost Classification')\n",
    "ax.xaxis.set_ticklabels(['Non-Churn', 'Churn'])\n",
    "ax.yaxis.set_ticklabels(['Non-Churn', 'Churn']);"
   ]
  },
  {
   "cell_type": "code",
   "execution_count": 32,
   "metadata": {},
   "outputs": [
    {
     "data": {
      "image/png": "[encoded data removed]",
      "text/plain": [
       "<Figure size 432x288 with 1 Axes>"
      ]
     },
     "metadata": {
      "needs_background": "light"
     },
     "output_type": "display_data"
    }
   ],
   "source": [
    "classifiers = [LR, SVM, GB, BG, RF, ET, Ada, XGB]\n",
    "ax = plt.gca()\n",
    "for i in classifiers:\n",
    "    plot_roc_curve(i, X_test, y_test, ax=ax)"
   ]
  },
  {
   "cell_type": "code",
   "execution_count": 38,
   "metadata": {},
   "outputs": [],
   "source": [
    "data = [['GB', statistics.mean(CV_scores_GB),f1_score(y_test, y_pred_GB) ],['BG', statistics.mean(CV_scores_BG), f1_score(y_test, y_pred_BG)], \n",
    "        ['RF', statistics.mean(CV_scores_RF), f1_score(y_test, y_pred_RF)],['ET', statistics.mean(CV_scores_ET), f1_score(y_test, y_pred_ET)], \n",
    "        ['Ada', statistics.mean(CV_scores_Ada), f1_score(y_test, y_pred_Ada)], ['XGB', statistics.mean(CV_scores_XGB), f1_score(y_test, y_pred_XGB)]] \n",
    "  \n",
    "# Create the pandas DataFrame \n",
    "df = pd.DataFrame(data, columns = ['Model', 'CV_Accuracy', 'F1']) "
   ]
  },
  {
   "cell_type": "code",
   "execution_count": 39,
   "metadata": {},
   "outputs": [
    {
     "data": {
      "text/plain": [
       "<matplotlib.legend.Legend at 0x158ac262820>"
      ]
     },
     "execution_count": 39,
     "metadata": {},
     "output_type": "execute_result"
    },
    {
     "data": {
      "image/png": "[encoded data removed]",
      "text/plain": [
       "<Figure size 432x288 with 1 Axes>"
      ]
     },
     "metadata": {
      "needs_background": "light"
     },
     "output_type": "display_data"
    }
   ],
   "source": [
    "plt.plot( 'Model', 'CV_Accuracy', data=df, marker='', color='blue', linewidth=2)\n",
    "plt.plot( 'Model', 'F1', data=df, marker='', color='red', linewidth=2, linestyle='dashed', label=\"F1\")\n",
    "plt.legend()"
   ]
  },
  {
   "cell_type": "code",
   "execution_count": null,
   "metadata": {},
   "outputs": [],
   "source": []
  }
 ],
 "metadata": {
  "kernelspec": {
   "display_name": "Python 3",
   "language": "python",
   "name": "python3"
  },
  "language_info": {
   "codemirror_mode": {
    "name": "ipython",
    "version": 3
   },
   "file_extension": ".py",
   "mimetype": "text/x-python",
   "name": "python",
   "nbconvert_exporter": "python",
   "pygments_lexer": "ipython3",
   "version": "3.8.3"
  }
 },
 "nbformat": 4,
 "nbformat_minor": 4
}
